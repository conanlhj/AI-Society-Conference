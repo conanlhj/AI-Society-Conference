{
 "cells": [
  {
   "cell_type": "code",
   "metadata": {
    "collapsed": true,
    "pycharm": {
     "name": "#%%\n"
    }
   },
   "source": [
    "from PIL import Image\n",
    "from autocrop import Cropper\n",
    "import pandas as pd\n",
    "import numpy as np"
   ],
   "execution_count": 1,
   "outputs": []
  },
  {
   "cell_type": "code",
   "execution_count": 2,
   "outputs": [
    {
     "data": {
      "text/plain": "                        ID  PSPI\n0      ll042t1aaaff001.png   0.0\n1      ll042t1aaaff002.png   0.0\n2      ll042t1aaaff003.png   0.0\n3      ll042t1aaaff004.png   0.0\n4      ll042t1aaaff005.png   0.0\n...                    ...   ...\n48393  dn124t1aiaff416.png   4.0\n48394  dn124t1aiaff417.png   4.0\n48395  dn124t1aiaff418.png   4.0\n48396  dn124t1aiaff419.png   4.0\n48397  dn124t1aiaff420.png   4.0\n\n[48398 rows x 2 columns]",
      "text/html": "<div>\n<style scoped>\n    .dataframe tbody tr th:only-of-type {\n        vertical-align: middle;\n    }\n\n    .dataframe tbody tr th {\n        vertical-align: top;\n    }\n\n    .dataframe thead th {\n        text-align: right;\n    }\n</style>\n<table border=\"1\" class=\"dataframe\">\n  <thead>\n    <tr style=\"text-align: right;\">\n      <th></th>\n      <th>ID</th>\n      <th>PSPI</th>\n    </tr>\n  </thead>\n  <tbody>\n    <tr>\n      <th>0</th>\n      <td>ll042t1aaaff001.png</td>\n      <td>0.0</td>\n    </tr>\n    <tr>\n      <th>1</th>\n      <td>ll042t1aaaff002.png</td>\n      <td>0.0</td>\n    </tr>\n    <tr>\n      <th>2</th>\n      <td>ll042t1aaaff003.png</td>\n      <td>0.0</td>\n    </tr>\n    <tr>\n      <th>3</th>\n      <td>ll042t1aaaff004.png</td>\n      <td>0.0</td>\n    </tr>\n    <tr>\n      <th>4</th>\n      <td>ll042t1aaaff005.png</td>\n      <td>0.0</td>\n    </tr>\n    <tr>\n      <th>...</th>\n      <td>...</td>\n      <td>...</td>\n    </tr>\n    <tr>\n      <th>48393</th>\n      <td>dn124t1aiaff416.png</td>\n      <td>4.0</td>\n    </tr>\n    <tr>\n      <th>48394</th>\n      <td>dn124t1aiaff417.png</td>\n      <td>4.0</td>\n    </tr>\n    <tr>\n      <th>48395</th>\n      <td>dn124t1aiaff418.png</td>\n      <td>4.0</td>\n    </tr>\n    <tr>\n      <th>48396</th>\n      <td>dn124t1aiaff419.png</td>\n      <td>4.0</td>\n    </tr>\n    <tr>\n      <th>48397</th>\n      <td>dn124t1aiaff420.png</td>\n      <td>4.0</td>\n    </tr>\n  </tbody>\n</table>\n<p>48398 rows × 2 columns</p>\n</div>"
     },
     "execution_count": 2,
     "metadata": {},
     "output_type": "execute_result"
    }
   ],
   "source": [
    "df = pd.read_csv('data_label.csv')\n",
    "df = df.drop([df.columns[0]], axis = 1)\n",
    "df"
   ],
   "metadata": {
    "collapsed": false,
    "pycharm": {
     "name": "#%%\n"
    }
   }
  },
  {
   "cell_type": "code",
   "execution_count": 3,
   "outputs": [
    {
     "name": "stdout",
     "output_type": "stream",
     "text": [
      "성공 :   100 | 실패 :     0 | 총 시도 개수 : 100\n",
      "성공 :   200 | 실패 :     0 | 총 시도 개수 : 200\n",
      "성공 :   300 | 실패 :     0 | 총 시도 개수 : 300\n",
      "성공 :   400 | 실패 :     0 | 총 시도 개수 : 400\n",
      "성공 :   500 | 실패 :     0 | 총 시도 개수 : 500\n"
     ]
    },
    {
     "ename": "KeyboardInterrupt",
     "evalue": "",
     "output_type": "error",
     "traceback": [
      "\u001B[1;31m---------------------------------------------------------------------------\u001B[0m",
      "\u001B[1;31mKeyboardInterrupt\u001B[0m                         Traceback (most recent call last)",
      "\u001B[1;32m~\\AppData\\Local\\Temp/ipykernel_4980/3629756967.py\u001B[0m in \u001B[0;36m<module>\u001B[1;34m\u001B[0m\n\u001B[0;32m      4\u001B[0m     \u001B[0mcropper\u001B[0m \u001B[1;33m=\u001B[0m \u001B[0mCropper\u001B[0m\u001B[1;33m(\u001B[0m\u001B[1;33m)\u001B[0m\u001B[1;33m\u001B[0m\u001B[1;33m\u001B[0m\u001B[0m\n\u001B[0;32m      5\u001B[0m     \u001B[1;31m# Get a Numpy array of the cropped image\u001B[0m\u001B[1;33m\u001B[0m\u001B[1;33m\u001B[0m\u001B[1;33m\u001B[0m\u001B[0m\n\u001B[1;32m----> 6\u001B[1;33m     \u001B[0mcropped_array\u001B[0m \u001B[1;33m=\u001B[0m \u001B[0mcropper\u001B[0m\u001B[1;33m.\u001B[0m\u001B[0mcrop\u001B[0m\u001B[1;33m(\u001B[0m\u001B[1;34m'./dataset/'\u001B[0m\u001B[1;33m+\u001B[0m\u001B[0mfilename\u001B[0m\u001B[1;33m)\u001B[0m\u001B[1;33m\u001B[0m\u001B[1;33m\u001B[0m\u001B[0m\n\u001B[0m\u001B[0;32m      7\u001B[0m \u001B[1;33m\u001B[0m\u001B[0m\n\u001B[0;32m      8\u001B[0m     \u001B[1;31m# Save the cropped image with PIL if a face was detected:\u001B[0m\u001B[1;33m\u001B[0m\u001B[1;33m\u001B[0m\u001B[1;33m\u001B[0m\u001B[0m\n",
      "\u001B[1;32mc:\\programdata\\anaconda3\\envs\\tensorflow\\lib\\site-packages\\autocrop\\autocrop.py\u001B[0m in \u001B[0;36mcrop\u001B[1;34m(self, path_or_array)\u001B[0m\n\u001B[0;32m    161\u001B[0m         \"\"\"\n\u001B[0;32m    162\u001B[0m         \u001B[1;32mif\u001B[0m \u001B[0misinstance\u001B[0m\u001B[1;33m(\u001B[0m\u001B[0mpath_or_array\u001B[0m\u001B[1;33m,\u001B[0m \u001B[0mstr\u001B[0m\u001B[1;33m)\u001B[0m\u001B[1;33m:\u001B[0m\u001B[1;33m\u001B[0m\u001B[1;33m\u001B[0m\u001B[0m\n\u001B[1;32m--> 163\u001B[1;33m             \u001B[0mimage\u001B[0m \u001B[1;33m=\u001B[0m \u001B[0mopen_file\u001B[0m\u001B[1;33m(\u001B[0m\u001B[0mpath_or_array\u001B[0m\u001B[1;33m)\u001B[0m\u001B[1;33m\u001B[0m\u001B[1;33m\u001B[0m\u001B[0m\n\u001B[0m\u001B[0;32m    164\u001B[0m         \u001B[1;32melse\u001B[0m\u001B[1;33m:\u001B[0m\u001B[1;33m\u001B[0m\u001B[1;33m\u001B[0m\u001B[0m\n\u001B[0;32m    165\u001B[0m             \u001B[0mimage\u001B[0m \u001B[1;33m=\u001B[0m \u001B[0mpath_or_array\u001B[0m\u001B[1;33m\u001B[0m\u001B[1;33m\u001B[0m\u001B[0m\n",
      "\u001B[1;32mc:\\programdata\\anaconda3\\envs\\tensorflow\\lib\\site-packages\\autocrop\\autocrop.py\u001B[0m in \u001B[0;36mopen_file\u001B[1;34m(input_filename)\u001B[0m\n\u001B[0;32m     88\u001B[0m     \u001B[1;32mif\u001B[0m \u001B[0mextension\u001B[0m \u001B[1;32min\u001B[0m \u001B[0mCV2_FILETYPES\u001B[0m\u001B[1;33m:\u001B[0m\u001B[1;33m\u001B[0m\u001B[1;33m\u001B[0m\u001B[0m\n\u001B[0;32m     89\u001B[0m         \u001B[1;31m# Try with cv2\u001B[0m\u001B[1;33m\u001B[0m\u001B[1;33m\u001B[0m\u001B[1;33m\u001B[0m\u001B[0m\n\u001B[1;32m---> 90\u001B[1;33m         \u001B[1;32mreturn\u001B[0m \u001B[0mcv2\u001B[0m\u001B[1;33m.\u001B[0m\u001B[0mimread\u001B[0m\u001B[1;33m(\u001B[0m\u001B[0minput_filename\u001B[0m\u001B[1;33m)\u001B[0m\u001B[1;33m\u001B[0m\u001B[1;33m\u001B[0m\u001B[0m\n\u001B[0m\u001B[0;32m     91\u001B[0m     \u001B[1;32mif\u001B[0m \u001B[0mextension\u001B[0m \u001B[1;32min\u001B[0m \u001B[0mPILLOW_FILETYPES\u001B[0m\u001B[1;33m:\u001B[0m\u001B[1;33m\u001B[0m\u001B[1;33m\u001B[0m\u001B[0m\n\u001B[0;32m     92\u001B[0m         \u001B[1;31m# Try with PIL\u001B[0m\u001B[1;33m\u001B[0m\u001B[1;33m\u001B[0m\u001B[1;33m\u001B[0m\u001B[0m\n",
      "\u001B[1;31mKeyboardInterrupt\u001B[0m: "
     ]
    }
   ],
   "source": [
    "failed_list = []\n",
    "success, fail = 0, 0\n",
    "for filename in df['ID']:\n",
    "    cropper = Cropper()\n",
    "    # Get a Numpy array of the cropped image\n",
    "    cropped_array = cropper.crop('./dataset/'+filename)\n",
    "\n",
    "    # Save the cropped image with PIL if a face was detected:\n",
    "    try:\n",
    "        cropped_image = Image.fromarray(cropped_array)\n",
    "        cropped_image.save('./dataset_cropped/'+filename)\n",
    "        success += 1\n",
    "    except:\n",
    "        failed_list.append(filename)\n",
    "        fail += 1\n",
    "    if (success+fail)%100 == 0:\n",
    "        print(\"성공 : %5d | 실패 : %5d | 총 시도 개수 : %d\" % (success, fail, success+fail))"
   ],
   "metadata": {
    "collapsed": false,
    "pycharm": {
     "name": "#%%\n"
    }
   }
  },
  {
   "cell_type": "code",
   "execution_count": 1,
   "outputs": [
    {
     "ename": "NameError",
     "evalue": "name 'df' is not defined",
     "output_type": "error",
     "traceback": [
      "\u001B[1;31m---------------------------------------------------------------------------\u001B[0m",
      "\u001B[1;31mNameError\u001B[0m                                 Traceback (most recent call last)",
      "\u001B[1;32m~\\AppData\\Local\\Temp/ipykernel_14764/4122687814.py\u001B[0m in \u001B[0;36m<module>\u001B[1;34m\u001B[0m\n\u001B[1;32m----> 1\u001B[1;33m \u001B[0mdf\u001B[0m \u001B[1;33m=\u001B[0m \u001B[0mdf\u001B[0m\u001B[1;33m[\u001B[0m\u001B[0mdf\u001B[0m\u001B[1;33m.\u001B[0m\u001B[0mID\u001B[0m \u001B[1;32mnot\u001B[0m \u001B[1;32min\u001B[0m \u001B[0mfailed_list\u001B[0m\u001B[1;33m]\u001B[0m\u001B[1;33m\u001B[0m\u001B[1;33m\u001B[0m\u001B[0m\n\u001B[0m\u001B[0;32m      2\u001B[0m \u001B[0mdf\u001B[0m\u001B[1;33m.\u001B[0m\u001B[0mto_csv\u001B[0m\u001B[1;33m(\u001B[0m\u001B[1;34m\"data_label_crop.csv\"\u001B[0m\u001B[1;33m)\u001B[0m\u001B[1;33m\u001B[0m\u001B[1;33m\u001B[0m\u001B[0m\n",
      "\u001B[1;31mNameError\u001B[0m: name 'df' is not defined"
     ]
    }
   ],
   "source": [
    "df = df[df.ID not in failed_list]\n",
    "df.to_csv(\"data_label_crop.csv\")"
   ],
   "metadata": {
    "collapsed": false,
    "pycharm": {
     "name": "#%%\n"
    }
   }
  },
  {
   "cell_type": "code",
   "execution_count": 2,
   "outputs": [],
   "source": [
    "import pandas as pd\n",
    "import numpy as np\n",
    "import os"
   ],
   "metadata": {
    "collapsed": false,
    "pycharm": {
     "name": "#%%\n"
    }
   }
  },
  {
   "cell_type": "code",
   "execution_count": 4,
   "outputs": [],
   "source": [
    "df1 = pd.read_csv(\"data_label.csv\")\n",
    "df1 = df1.drop([df1.columns[0]], axis = 1)\n",
    "filenames = os.listdir(\"./dataset_cropped\")\n",
    "df2 = df1[df1['ID'].isin(filenames)]\n",
    "df2\n",
    "df2.to_csv(\"cropped_data_label.csv\")"
   ],
   "metadata": {
    "collapsed": false,
    "pycharm": {
     "name": "#%%\n"
    }
   }
  }
 ],
 "metadata": {
  "kernelspec": {
   "display_name": "Python 3",
   "language": "python",
   "name": "python3"
  },
  "language_info": {
   "codemirror_mode": {
    "name": "ipython",
    "version": 2
   },
   "file_extension": ".py",
   "mimetype": "text/x-python",
   "name": "python",
   "nbconvert_exporter": "python",
   "pygments_lexer": "ipython2",
   "version": "2.7.6"
  }
 },
 "nbformat": 4,
 "nbformat_minor": 0
}
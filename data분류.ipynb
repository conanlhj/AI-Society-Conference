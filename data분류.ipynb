{
 "cells": [
  {
   "cell_type": "code",
   "execution_count": 1,
   "outputs": [],
   "source": [
    "import pandas as pd\n",
    "import numpy as np\n",
    "from shutil import copyfile"
   ],
   "metadata": {
    "collapsed": false,
    "pycharm": {
     "name": "#%%\n"
    }
   }
  },
  {
   "cell_type": "code",
   "execution_count": 2,
   "metadata": {
    "collapsed": true
   },
   "outputs": [
    {
     "data": {
      "text/plain": "                        ID  PSPI\n0      ll042t1aaaff001.png   0.0\n1      ll042t1aaaff002.png   0.0\n2      ll042t1aaaff003.png   0.0\n3      ll042t1aaaff004.png   0.0\n4      ll042t1aaaff005.png   0.0\n...                    ...   ...\n46926  dn124t1aiaff416.png   4.0\n46927  dn124t1aiaff417.png   4.0\n46928  dn124t1aiaff418.png   4.0\n46929  dn124t1aiaff419.png   4.0\n46930  dn124t1aiaff420.png   4.0\n\n[46931 rows x 2 columns]",
      "text/html": "<div>\n<style scoped>\n    .dataframe tbody tr th:only-of-type {\n        vertical-align: middle;\n    }\n\n    .dataframe tbody tr th {\n        vertical-align: top;\n    }\n\n    .dataframe thead th {\n        text-align: right;\n    }\n</style>\n<table border=\"1\" class=\"dataframe\">\n  <thead>\n    <tr style=\"text-align: right;\">\n      <th></th>\n      <th>ID</th>\n      <th>PSPI</th>\n    </tr>\n  </thead>\n  <tbody>\n    <tr>\n      <th>0</th>\n      <td>ll042t1aaaff001.png</td>\n      <td>0.0</td>\n    </tr>\n    <tr>\n      <th>1</th>\n      <td>ll042t1aaaff002.png</td>\n      <td>0.0</td>\n    </tr>\n    <tr>\n      <th>2</th>\n      <td>ll042t1aaaff003.png</td>\n      <td>0.0</td>\n    </tr>\n    <tr>\n      <th>3</th>\n      <td>ll042t1aaaff004.png</td>\n      <td>0.0</td>\n    </tr>\n    <tr>\n      <th>4</th>\n      <td>ll042t1aaaff005.png</td>\n      <td>0.0</td>\n    </tr>\n    <tr>\n      <th>...</th>\n      <td>...</td>\n      <td>...</td>\n    </tr>\n    <tr>\n      <th>46926</th>\n      <td>dn124t1aiaff416.png</td>\n      <td>4.0</td>\n    </tr>\n    <tr>\n      <th>46927</th>\n      <td>dn124t1aiaff417.png</td>\n      <td>4.0</td>\n    </tr>\n    <tr>\n      <th>46928</th>\n      <td>dn124t1aiaff418.png</td>\n      <td>4.0</td>\n    </tr>\n    <tr>\n      <th>46929</th>\n      <td>dn124t1aiaff419.png</td>\n      <td>4.0</td>\n    </tr>\n    <tr>\n      <th>46930</th>\n      <td>dn124t1aiaff420.png</td>\n      <td>4.0</td>\n    </tr>\n  </tbody>\n</table>\n<p>46931 rows × 2 columns</p>\n</div>"
     },
     "execution_count": 2,
     "metadata": {},
     "output_type": "execute_result"
    }
   ],
   "source": [
    "data_dir = \"./dataset_cropped\"\n",
    "df = pd.read_csv(\"cropped_data_label.csv\")\n",
    "df = df.drop([df.columns[0]], axis = 1)\n",
    "df\n"
   ]
  },
  {
   "cell_type": "code",
   "execution_count": 6,
   "outputs": [
    {
     "data": {
      "text/plain": "array([ 0.,  1.,  2.,  4.,  5.,  6.,  3.,  7.,  8.,  9., 10., 11., 12.,\n       13., 14., 15.])"
     },
     "execution_count": 6,
     "metadata": {},
     "output_type": "execute_result"
    }
   ],
   "source": [
    "tmp = pd.unique(df['PSPI'])\n",
    "tmp"
   ],
   "metadata": {
    "collapsed": false,
    "pycharm": {
     "name": "#%%\n"
    }
   }
  },
  {
   "cell_type": "code",
   "execution_count": 8,
   "outputs": [
    {
     "name": "stdout",
     "output_type": "stream",
     "text": [
      "현재 완료 개수 :  500 | 마지막으로 완료한 PSPI : 0\n",
      "현재 완료 개수 :  1000 | 마지막으로 완료한 PSPI : 0\n",
      "현재 완료 개수 :  1500 | 마지막으로 완료한 PSPI : 0\n",
      "현재 완료 개수 :  2000 | 마지막으로 완료한 PSPI : 0\n",
      "현재 완료 개수 :  2500 | 마지막으로 완료한 PSPI : 0\n",
      "현재 완료 개수 :  3000 | 마지막으로 완료한 PSPI : 0\n",
      "현재 완료 개수 :  3500 | 마지막으로 완료한 PSPI : 0\n",
      "현재 완료 개수 :  4000 | 마지막으로 완료한 PSPI : 0\n",
      "현재 완료 개수 :  4500 | 마지막으로 완료한 PSPI : 0\n",
      "현재 완료 개수 :  5000 | 마지막으로 완료한 PSPI : 0\n",
      "현재 완료 개수 :  5500 | 마지막으로 완료한 PSPI : 0\n",
      "현재 완료 개수 :  6000 | 마지막으로 완료한 PSPI : 0\n",
      "현재 완료 개수 :  6500 | 마지막으로 완료한 PSPI : 0\n",
      "현재 완료 개수 :  7000 | 마지막으로 완료한 PSPI : 0\n",
      "현재 완료 개수 :  7500 | 마지막으로 완료한 PSPI : 0\n",
      "현재 완료 개수 :  8000 | 마지막으로 완료한 PSPI : 0\n",
      "현재 완료 개수 :  8500 | 마지막으로 완료한 PSPI : 0\n",
      "현재 완료 개수 :  9000 | 마지막으로 완료한 PSPI : 0\n",
      "현재 완료 개수 :  9500 | 마지막으로 완료한 PSPI : 0\n",
      "현재 완료 개수 :  10000 | 마지막으로 완료한 PSPI : 0\n",
      "현재 완료 개수 :  10500 | 마지막으로 완료한 PSPI : 0\n",
      "현재 완료 개수 :  11000 | 마지막으로 완료한 PSPI : 0\n",
      "현재 완료 개수 :  11500 | 마지막으로 완료한 PSPI : 0\n",
      "현재 완료 개수 :  12000 | 마지막으로 완료한 PSPI : 0\n",
      "현재 완료 개수 :  12500 | 마지막으로 완료한 PSPI : 0\n",
      "현재 완료 개수 :  13000 | 마지막으로 완료한 PSPI : 0\n",
      "현재 완료 개수 :  13500 | 마지막으로 완료한 PSPI : 0\n",
      "현재 완료 개수 :  14000 | 마지막으로 완료한 PSPI : 0\n",
      "현재 완료 개수 :  14500 | 마지막으로 완료한 PSPI : 0\n",
      "현재 완료 개수 :  15000 | 마지막으로 완료한 PSPI : 0\n",
      "현재 완료 개수 :  15500 | 마지막으로 완료한 PSPI : 0\n",
      "현재 완료 개수 :  16000 | 마지막으로 완료한 PSPI : 0\n",
      "현재 완료 개수 :  16500 | 마지막으로 완료한 PSPI : 0\n",
      "현재 완료 개수 :  17000 | 마지막으로 완료한 PSPI : 0\n",
      "현재 완료 개수 :  17500 | 마지막으로 완료한 PSPI : 0\n",
      "현재 완료 개수 :  18000 | 마지막으로 완료한 PSPI : 0\n",
      "현재 완료 개수 :  18500 | 마지막으로 완료한 PSPI : 0\n",
      "현재 완료 개수 :  19000 | 마지막으로 완료한 PSPI : 0\n",
      "현재 완료 개수 :  19500 | 마지막으로 완료한 PSPI : 0\n",
      "현재 완료 개수 :  20000 | 마지막으로 완료한 PSPI : 0\n",
      "현재 완료 개수 :  20500 | 마지막으로 완료한 PSPI : 0\n",
      "현재 완료 개수 :  21000 | 마지막으로 완료한 PSPI : 0\n",
      "현재 완료 개수 :  21500 | 마지막으로 완료한 PSPI : 0\n",
      "현재 완료 개수 :  22000 | 마지막으로 완료한 PSPI : 0\n",
      "현재 완료 개수 :  22500 | 마지막으로 완료한 PSPI : 0\n",
      "현재 완료 개수 :  23000 | 마지막으로 완료한 PSPI : 0\n",
      "현재 완료 개수 :  23500 | 마지막으로 완료한 PSPI : 0\n",
      "현재 완료 개수 :  24000 | 마지막으로 완료한 PSPI : 0\n",
      "현재 완료 개수 :  24500 | 마지막으로 완료한 PSPI : 0\n",
      "현재 완료 개수 :  25000 | 마지막으로 완료한 PSPI : 0\n",
      "현재 완료 개수 :  25500 | 마지막으로 완료한 PSPI : 0\n",
      "현재 완료 개수 :  26000 | 마지막으로 완료한 PSPI : 0\n",
      "현재 완료 개수 :  26500 | 마지막으로 완료한 PSPI : 0\n",
      "현재 완료 개수 :  27000 | 마지막으로 완료한 PSPI : 0\n",
      "현재 완료 개수 :  27500 | 마지막으로 완료한 PSPI : 0\n",
      "현재 완료 개수 :  28000 | 마지막으로 완료한 PSPI : 0\n",
      "현재 완료 개수 :  28500 | 마지막으로 완료한 PSPI : 0\n",
      "현재 완료 개수 :  29000 | 마지막으로 완료한 PSPI : 0\n",
      "현재 완료 개수 :  29500 | 마지막으로 완료한 PSPI : 0\n",
      "현재 완료 개수 :  30000 | 마지막으로 완료한 PSPI : 0\n",
      "현재 완료 개수 :  30500 | 마지막으로 완료한 PSPI : 0\n",
      "현재 완료 개수 :  31000 | 마지막으로 완료한 PSPI : 0\n",
      "현재 완료 개수 :  31500 | 마지막으로 완료한 PSPI : 0\n",
      "현재 완료 개수 :  32000 | 마지막으로 완료한 PSPI : 0\n",
      "현재 완료 개수 :  32500 | 마지막으로 완료한 PSPI : 0\n",
      "현재 완료 개수 :  33000 | 마지막으로 완료한 PSPI : 0\n",
      "현재 완료 개수 :  33500 | 마지막으로 완료한 PSPI : 0\n",
      "현재 완료 개수 :  34000 | 마지막으로 완료한 PSPI : 0\n",
      "현재 완료 개수 :  34500 | 마지막으로 완료한 PSPI : 0\n",
      "현재 완료 개수 :  35000 | 마지막으로 완료한 PSPI : 0\n",
      "현재 완료 개수 :  35500 | 마지막으로 완료한 PSPI : 0\n",
      "현재 완료 개수 :  36000 | 마지막으로 완료한 PSPI : 0\n",
      "현재 완료 개수 :  36500 | 마지막으로 완료한 PSPI : 0\n",
      "현재 완료 개수 :  37000 | 마지막으로 완료한 PSPI : 0\n",
      "현재 완료 개수 :  37500 | 마지막으로 완료한 PSPI : 0\n",
      "현재 완료 개수 :  38000 | 마지막으로 완료한 PSPI : 0\n",
      "현재 완료 개수 :  38500 | 마지막으로 완료한 PSPI : 0\n",
      "현재 완료 개수 :  39000 | 마지막으로 완료한 PSPI : 1\n",
      "현재 완료 개수 :  39500 | 마지막으로 완료한 PSPI : 1\n",
      "현재 완료 개수 :  40000 | 마지막으로 완료한 PSPI : 1\n",
      "현재 완료 개수 :  40500 | 마지막으로 완료한 PSPI : 1\n",
      "현재 완료 개수 :  41000 | 마지막으로 완료한 PSPI : 1\n",
      "현재 완료 개수 :  41500 | 마지막으로 완료한 PSPI : 1\n",
      "현재 완료 개수 :  42000 | 마지막으로 완료한 PSPI : 2\n",
      "현재 완료 개수 :  42500 | 마지막으로 완료한 PSPI : 2\n",
      "현재 완료 개수 :  43000 | 마지막으로 완료한 PSPI : 2\n",
      "현재 완료 개수 :  43500 | 마지막으로 완료한 PSPI : 2\n",
      "현재 완료 개수 :  44000 | 마지막으로 완료한 PSPI : 2\n",
      "현재 완료 개수 :  44500 | 마지막으로 완료한 PSPI : 4\n",
      "현재 완료 개수 :  45000 | 마지막으로 완료한 PSPI : 5\n",
      "현재 완료 개수 :  45500 | 마지막으로 완료한 PSPI : 3\n",
      "현재 완료 개수 :  46000 | 마지막으로 완료한 PSPI : 3\n",
      "현재 완료 개수 :  46500 | 마지막으로 완료한 PSPI : 3\n"
     ]
    }
   ],
   "source": [
    "cnt = 0\n",
    "for i in tmp:\n",
    "    tmp1 = df[df['PSPI'].isin([i])]\n",
    "    for filename in tmp1['ID']:\n",
    "        copyfile(data_dir+'/'+filename, data_dir+'/'+str(int(i))+'/'+filename)\n",
    "        cnt += 1\n",
    "        if cnt % 500 == 0:\n",
    "            print(\"현재 완료 개수 : \", cnt, \"| 마지막으로 완료한 PSPI :\", str(int(i)))"
   ],
   "metadata": {
    "collapsed": false,
    "pycharm": {
     "name": "#%%\n"
    }
   }
  }
 ],
 "metadata": {
  "kernelspec": {
   "display_name": "Python 3",
   "language": "python",
   "name": "python3"
  },
  "language_info": {
   "codemirror_mode": {
    "name": "ipython",
    "version": 2
   },
   "file_extension": ".py",
   "mimetype": "text/x-python",
   "name": "python",
   "nbconvert_exporter": "python",
   "pygments_lexer": "ipython2",
   "version": "2.7.6"
  }
 },
 "nbformat": 4,
 "nbformat_minor": 0
}